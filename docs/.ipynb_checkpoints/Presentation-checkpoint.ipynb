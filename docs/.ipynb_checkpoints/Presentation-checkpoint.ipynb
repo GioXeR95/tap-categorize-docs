{
 "cells": [
  {
   "cell_type": "markdown",
   "id": "efca54f5-b38c-4ab2-b7d9-2414d2c1c801",
   "metadata": {
    "scrolled": true,
    "slideshow": {
     "slide_type": "slide"
    }
   },
   "source": [
    "<center><img src=\"res/img/logo.png\" width=\"512\" height=\"512\" align=\"center\"/></center>\n",
    "<center><h1>Documentinator</h1><h3>Speed up your docs categorization.</h3></center>"
   ]
  },
  {
   "cell_type": "markdown",
   "id": "67912436",
   "metadata": {
    "slideshow": {
     "slide_type": "slide"
    }
   },
   "source": [
    "<center><h1>Documentinator: Informazioni sul progetto</h1></center>"
   ]
  },
  {
   "cell_type": "markdown",
   "id": "0beae847",
   "metadata": {
    "slideshow": {
     "slide_type": "fragment"
    }
   },
   "source": [
    "<p>Questo progetto si occupa di analizzare e categorizzare documenti. L'idea è automatizzare l'analisi del contenuto e valutare l'attendibilità di un documento.</p>"
   ]
  },
  {
   "cell_type": "markdown",
   "id": "7faafac0",
   "metadata": {
    "slideshow": {
     "slide_type": "fragment"
    }
   },
   "source": [
    "<p>Con la digitalizzazione della maggior parte delle compagnie e dei servizi forniti da esse, e con la semplice digitalizzazione della vita quotidiana, abbiamo quasi del tutto abbandonato il supporto cartaceo. La digitalizzazione ci fa risparmiare molte risorse e tempo, e questo progetto punta proprio a migliorare ulteriormente l'analisi dei documenti digitalizzati.</p>"
   ]
  },
  {
   "cell_type": "markdown",
   "id": "83739436",
   "metadata": {
    "slideshow": {
     "slide_type": "slide"
    }
   },
   "source": [
    "<center><h1>Cosa fa?</h1></center>\n"
   ]
  },
  {
   "cell_type": "markdown",
   "id": "16b59bb7",
   "metadata": {
    "slideshow": {
     "slide_type": "fragment"
    }
   },
   "source": [
    "<p >Documentinator monitora una cartella per l'aggiunta di nuovi documenti. Estrae il contenuto di questi documenti e lo analizza utilizzando GPT-4. Le informazioni che vogliamo ottenere sono:\n",
    "    <ul >\n",
    "        <li><b>Categoria</b>: determinare a quale categoria appartiene il documento digitale.</li>\n",
    "        <li><b>Riassunto</b>: fornire un breve riassunto del documento.</li>\n",
    "        <li><b>Attendibilità</b>: valutare l'affidabilità delle informazioni contenute nel documento.</li>\n",
    "    </ul> \n",
    "</p>"
   ]
  },
  {
   "cell_type": "markdown",
   "id": "73c613cf",
   "metadata": {
    "slideshow": {
     "slide_type": "subslide"
    }
   },
   "source": [
    "<center><h1>Come lo fa?</h1></center>\n"
   ]
  },
  {
   "cell_type": "markdown",
   "id": "e5729caf",
   "metadata": {
    "slideshow": {
     "slide_type": "fragment"
    }
   },
   "source": [
    "\n",
    "<p >Diamo un occhiata alla pipeline del progetto per capire come avviene il tutto.\n",
    "</p>\n",
    "<center><img src=\"res/img/pipeline.png\"></center>"
   ]
  },
  {
   "cell_type": "markdown",
   "id": "092caf4d",
   "metadata": {
    "slideshow": {
     "slide_type": "subslide"
    }
   },
   "source": [
    "<center ><h1 style='display:inline'><img style='display:inline' src='res/img/Python-logo.png' width='25px'>Python service</h1><center>"
   ]
  },
  {
   "cell_type": "markdown",
   "id": "4bceebf7",
   "metadata": {
    "slideshow": {
     "slide_type": "fragment"
    }
   },
   "source": [
    "<p style=\"font-size:24px; margin-top:0\">\n",
    "Questa prima parte è semplicemente un servizio che controlla una directory in attesa di un nuovo documento.\n",
    "    <br>Quando ne rileva uno, tramite un Observer sulla directory, lo analizza formando un json che avrà il seguente formato:</p>\n",
    "    <pre><code><br>file_data = {\n",
    "        \"uuid\": \"uuid generato\",\n",
    "        \"file_name\": \"nome del file\",\n",
    "        \"file_size_mb\": \"dimensioni del file\",\n",
    "        \"file_extension\": \"estensione del file\",\n",
    "        \"content\": \"contenuto estratto dal file\",\n",
    "        \"last_edit\": \"ultima modifica del file\"\n",
    "    }</code></pre>\n",
    "<br><p style=\"font-size:24px; margin-top:0\"> Momentaneamente questo servizio è in grado di esaminare file di tipo: .png, .jpg, .jpeg, .tiff, .bmp, .gif, .pdf, .txt. Le immagini o i PDF che non contengono testo vengono esaminati tramite OCR.\n",
    "</p>"
   ]
  },
  {
   "cell_type": "markdown",
   "id": "671823d3",
   "metadata": {
    "slideshow": {
     "slide_type": "slide"
    }
   },
   "source": [
    "<center><h1></h1></center><center ><h1 style='display:inline'><img style='display:inline' src='res/img/fluentd_logo.png' width='40px'>Fluentd</h1><center>\n",
    "<p style=\"font-size:24px;margin-top:0\">\n",
    "Fluentd viene usato per fare la data ingestion cosi da poter proseguire nel resto della pipeline.</p>\n",
    "    <br><p style='font-size:24px;'>La scelta di Fluentd è stata determinata dalla sua semplicità di configurazione e dall'ampio repertorio di estensioni, che possono essere facilmente implementate in futuro se necessario.<br>Per lo stato di test la scelta della tecnologia influisce poco, quindi:\n",
    "</p>\n"
   ]
  },
  {
   "cell_type": "markdown",
   "id": "2b9b4553",
   "metadata": {
    "slideshow": {
     "slide_type": "fragment"
    }
   },
   "source": [
    "<center style='margin-top:0;'><img src='res/img/why_pick_fluentd.png' width='512'></center>"
   ]
  },
  {
   "cell_type": "markdown",
   "id": "0201da82",
   "metadata": {
    "slideshow": {
     "slide_type": "slide"
    }
   },
   "source": [
    "<center ><h1 style='display:inline'><img style='display:inline' src='res/img/kafka-logo.png' width='50px'>Kafka</h1><center>\n",
    "<p>\n",
    "    <b>Kafka</b> funge da broker nella nostra pipeline per collegare Fluentd ai consumatori. Uno di questi consumatori utilizza Kafka per i log di debug, ed è possibile disabilitarlo semplicemente rimuovendo la relativa riga nel docker-compose.\n",
    "   \n",
    "</p>"
   ]
  },
  {
   "cell_type": "markdown",
   "id": "a9555654",
   "metadata": {
    "slideshow": {
     "slide_type": "slide"
    }
   },
   "source": [
    "<center ><h1 style='display:inline'><img style='display:inline' src='res/img/spark-logo.png' width='50px'>Spark</h1><center>\n",
    "<p >\n",
    "    Grazie alle sue librerie, <b>Spark</b> può interfacciarsi con Kafka in modo naturale. \n",
    "    <br>Con facilità è possibile ottenere i dati dal topic di Kafka e arricchirli.\n",
    "    <br>&Egrave; qui che entra in gioco l'API di OpenAI, analizzando il contenuto per categorizzare il nostro documento.\n",
    "</p>"
   ]
  },
  {
   "cell_type": "markdown",
   "id": "ce3b69ef",
   "metadata": {
    "slideshow": {
     "slide_type": "slide"
    }
   },
   "source": [
    "<center><h1>Prompt per GPT-4</h1></center>\n",
    "<p>\n",
    "Una cosa molto importante è proprio quella di definire il nostro prompt per l'IA.\n",
    "    <br>Per ricevere un formato di risposta standardizzato dall'IA è stato necessario fare un prompt adeguato.\n",
    "    <p style='quotes: \"«\" \"»\" \"‹\" \"›\";'>\n",
    "You are an expert data analyst helping us to understand the content of a document based on the title and the content\n",
    "    <br>You'll receive an input with the following format: filename: &lt;filename&gt;  content: &lt;content&gt;\n",
    "    <br>Your task is to tell us in what category the document could go: personal, business, game, payment, recipe, receipt or if it's not possible to understand use the category 'other'.\n",
    "    <br>Give a small summary of what the document contains in less than 25 words. \n",
    "    <br>And on a scale from 1 to 10, rate the reliability of the document information.\n",
    "    <br>Your answer must be in this format only without descriptions or other text added: category: &lt;category&gt;, summary: &lt;summary&gt;, reliability: &lt;reliability&gt;\n",
    "</p>\n",
    "<br>Proviamo quindi un'esempio di due documenti. Uno dettagliato e corretto e l'altro palesemente non attendibile.\n",
    "</p>\n",
    "\n"
   ]
  },
  {
   "cell_type": "markdown",
   "id": "f60169e0",
   "metadata": {
    "slideshow": {
     "slide_type": "slide"
    }
   },
   "source": [
    "<center><h1>Esempio con file attendibile:</h1></center>"
   ]
  },
  {
   "cell_type": "code",
   "execution_count": 2,
   "id": "99ea4a7a",
   "metadata": {
    "slideshow": {
     "slide_type": "fragment"
    }
   },
   "outputs": [
    {
     "name": "stdout",
     "output_type": "stream",
     "text": [
      "category: recipe\n",
      "summary: This is a recipe for preparing baked pasta, including tips on variations to suit personal tastes and advice on how to store leftovers\n",
      "reliability: 9.\n"
     ]
    }
   ],
   "source": [
    "from dotenv import load_dotenv\n",
    "load_dotenv()\n",
    "import os\n",
    "import openai\n",
    "openai.api_key = os.getenv('API_KEY')\n",
    "file_path = 'res/pasta_al_forno.txt'\n",
    "file_name = os.path.basename(file_path)\n",
    "with open('res/prompt.txt', 'r') as file:\n",
    "    prompt = file.read()\n",
    "with open(file_path, 'r') as file:\n",
    "    content = file.read()\n",
    "file_data = 'filename: '+file_name+', content: '+content;\n",
    "response = openai.chat.completions.create(model=\"gpt-4\",messages=[{\"role\": \"user\", \"content\": prompt + \"\\n\" + file_data},],)\n",
    "reply = response.choices[0].message.content\n",
    "print(reply.replace('; ', '\\n'))"
   ]
  },
  {
   "cell_type": "markdown",
   "id": "e3f8bae1",
   "metadata": {
    "slideshow": {
     "slide_type": "subslide"
    }
   },
   "source": [
    "<center><h1>Esempio con file non-attendibile:</h1></center>"
   ]
  },
  {
   "cell_type": "code",
   "execution_count": 4,
   "id": "3d038902",
   "metadata": {
    "slideshow": {
     "slide_type": "fragment"
    }
   },
   "outputs": [
    {
     "name": "stdout",
     "output_type": "stream",
     "text": [
      "category: recipe\n",
      "summary: This document appears to be a satirical take on a chicken recipe with nonsensical steps\n",
      "reliability: 1\n"
     ]
    }
   ],
   "source": [
    "from dotenv import load_dotenv\n",
    "load_dotenv()\n",
    "import os\n",
    "import openai\n",
    "openai.api_key = os.getenv('API_KEY')\n",
    "file_path = 'res/pollo_fritto.txt'\n",
    "file_name = os.path.basename(file_path)\n",
    "with open('res/prompt.txt', 'r') as file:\n",
    "    prompt = file.read()\n",
    "with open(file_path, 'r') as file:\n",
    "    content = file.read()\n",
    "file_data = 'filename: '+file_name+', content: '+content;\n",
    "response = openai.chat.completions.create(model=\"gpt-4\",messages=[{\"role\": \"user\", \"content\": prompt + \"\\n\" + file_data},],)\n",
    "reply = response.choices[0].message.content\n",
    "print(reply.replace('; ', '\\n'))"
   ]
  },
  {
   "cell_type": "markdown",
   "id": "64716030",
   "metadata": {
    "slideshow": {
     "slide_type": "slide"
    }
   },
   "source": [
    "<p >\n",
    "    back on track...\n",
    "</p>\n",
    "<center><h1>Elasticsearch e Kibana</h1></center>\n",
    "\n",
    "<p >\n",
    "Questi due ultimi strumenti vanno molto a braccetto, l'integrazione è praticamente immediata.\n",
    "    <br><b>Elasticsearch</b> offre capacità di ricerca e indicizzazione per gestire grandi volumi di dati in tempo reale, con un'architettura che garantisce scalabilità e prestazioni elevate.\n",
    "    <br><b>Kibana</b> fornisce un'interfaccia utente intuitiva per visualizzare e analizzare dati indicizzati in Elasticsearch, inclusi potenti dashboard e strumenti di visualizzazione come grafici e mappe.\n",
    "</p>\n",
    "<center><img src=\"res/img/elasticseachxkibana.png\"></img></center>"
   ]
  },
  {
   "cell_type": "markdown",
   "id": "3152632a",
   "metadata": {
    "slideshow": {
     "slide_type": "slide"
    }
   },
   "source": [
    "<center><h1>Esempio Visualizzazione:</h1></center>\n",
    "<p >\n",
    "    Questi sono degli esempi di visualizzazione:\n",
    "<table>\n",
    "    <tr>\n",
    "        <th style=\"text-align:center\">\n",
    "            Percentuali di Attendibilità\n",
    "        </th>\n",
    "        <th style=\"text-align:center\">\n",
    "            Numero di record per categoria\n",
    "        </th>\n",
    "    </tr>\n",
    "    <tr>\n",
    "        <td><img src=\"res/img/graph_perc_reab.png\"></img></td>\n",
    "        <td><img src=\"res/img/graph_count_record_cat.png\"></img></td>\n",
    "    </tr>\n",
    "</table>\n",
    "</p>"
   ]
  },
  {
   "cell_type": "markdown",
   "id": "c81fecc6",
   "metadata": {
    "slideshow": {
     "slide_type": "subslide"
    }
   },
   "source": [
    "<center><h1>Esempio Visualizzazione:</h1></center>\n",
    "<p >\n",
    "    Questi sono degli esempi di visualizzazione:\n",
    "<table>\n",
    "    <tr>\n",
    "        <th style=\"text-align:center\">\n",
    "            Media di grandezza file (MB) per punteggio di attendibilità\n",
    "        </th>\n",
    "        <th style=\"text-align:center\">\n",
    "            Media di attendibilità per categoria\n",
    "        </th>\n",
    "    </tr>\n",
    "    <tr ><td colspan=2><img src=\"res/img/graph_reab_sizeavg_and_cat_reabavg.png\"></img> </td></tr>\n",
    "</table>\n",
    "</p>"
   ]
  },
  {
   "cell_type": "markdown",
   "id": "c19a8c0d",
   "metadata": {
    "slideshow": {
     "slide_type": "subslide"
    }
   },
   "source": [
    "<center><h1>Esempio Visualizzazione:</h1></center>\n",
    "<p >\n",
    "    Questi sono degli esempi di visualizzazione:\n",
    "<table>\n",
    "        <tr>\n",
    "        <th style=\"text-align:center\">\n",
    "            Media di attendibilità per le top 3 estensioni usate\n",
    "        </th>\n",
    "        <th style=\"text-align:center\">\n",
    "            Spazio (in MB) usato per categoria\n",
    "        </th>\n",
    "    </tr>\n",
    "    <tr ><td colspan=2><img src=\"res/img/graph_top3_ext_reabavg_and_space_per_cat.png\"></img> </td></tr>\n",
    "</table>\n",
    "</p>"
   ]
  },
  {
   "cell_type": "markdown",
   "id": "dcc94fb5",
   "metadata": {
    "slideshow": {
     "slide_type": "subslide"
    }
   },
   "source": [
    "<center><h1>Prospetti futuri</h1></center>\n",
    "<p >\n",
    "    Il progetto è nella fase iniziale di sviluppo, che ha permesso di testarne il funzionamento. Di seguito sono elencate alcune possibili implementazioni future:\n",
    "        <ul>\n",
    "        <li>Espansione del supporto ad altri tipi di file.</li>\n",
    "        <li>Invio di base64 all'IA per consentire la ricostruzione del file originale.</li>\n",
    "        <li>Estrazione automatica di dati formali del mittente dal testo (se presenti, ad esempio data del documento, anagrafica del mittente).</li>\n",
    "        </ul>\n",
    "</p>"
   ]
  },
  {
   "cell_type": "markdown",
   "id": "ea7b7f85",
   "metadata": {
    "slideshow": {
     "slide_type": "slide"
    }
   },
   "source": [
    "<center><h1>Conclusione</h1></center>\n",
    "<center><h2>Grazie per l'attenzione</h2></center>\n",
    "<div>\n",
    "    <p style='margin-top:2px'><h4 style='display:inline'>Studente</h4>:  Gioele Cavalli</p>\n",
    "    <p><h4 style='display:inline'>Progetto</h4>:  Documentinator</p>\n",
    "    <p><h4 style='display:inline'>Materia </h4> :  TAP</p>\n",
    "</div>"
   ]
  }
 ],
 "metadata": {
  "celltoolbar": "Slideshow",
  "kernelspec": {
   "display_name": "Python 3 (ipykernel)",
   "language": "python",
   "name": "python3"
  },
  "language_info": {
   "codemirror_mode": {
    "name": "ipython",
    "version": 3
   },
   "file_extension": ".py",
   "mimetype": "text/x-python",
   "name": "python",
   "nbconvert_exporter": "python",
   "pygments_lexer": "ipython3",
   "version": "3.8.10"
  }
 },
 "nbformat": 4,
 "nbformat_minor": 5
}
